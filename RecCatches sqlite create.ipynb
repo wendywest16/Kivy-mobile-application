{
 "cells": [
  {
   "cell_type": "code",
   "execution_count": 1,
   "metadata": {},
   "outputs": [],
   "source": [
    "#https://likegeeks.com/python-sqlite3-tutorial/#Drop-table"
   ]
  },
  {
   "cell_type": "code",
   "execution_count": 2,
   "metadata": {},
   "outputs": [
    {
     "name": "stdout",
     "output_type": "stream",
     "text": [
      "2.6.0\n"
     ]
    }
   ],
   "source": [
    "import sqlite3\n",
    "from sqlite3 import Error\n",
    "\n",
    "\n",
    "def create_connection(db_file):\n",
    "    \"\"\" create a database connection to a SQLite database \"\"\"\n",
    "    conn = None\n",
    "    try:\n",
    "        conn = sqlite3.connect(db_file)\n",
    "        print(sqlite3.version)\n",
    "    except Error as e:\n",
    "        print(e)\n",
    "    finally:\n",
    "        if conn:\n",
    "            conn.close()\n",
    "\n",
    "\n",
    "if __name__ == '__main__':\n",
    "    create_connection(r\"reccatches1.db\")"
   ]
  },
  {
   "cell_type": "code",
   "execution_count": 3,
   "metadata": {},
   "outputs": [],
   "source": [
    "def create_connection(db_file):\n",
    "    \"\"\" create a database connection to the SQLite database\n",
    "        specified by db_file\n",
    "    :param db_file: database file\n",
    "    :return: Connection object or None\n",
    "    \"\"\"\n",
    "    conn = None\n",
    "    try:\n",
    "        conn = sqlite3.connect(db_file)\n",
    "        return conn\n",
    "    except Error as e:\n",
    "        print(e)\n",
    "\n",
    "    return conn\n",
    "\n",
    "\n",
    "def create_table(conn, create_table_sql):\n",
    "    \"\"\" create a table from the create_table_sql statement\n",
    "    :param conn: Connection object\n",
    "    :param create_table_sql: a CREATE TABLE statement\n",
    "    :return:\n",
    "    \"\"\"\n",
    "    try:\n",
    "        c = conn.cursor()\n",
    "        c.execute(create_table_sql)\n",
    "    except Error as e:\n",
    "        print(e)\n",
    "\n",
    "\n",
    "def main():\n",
    "    database = r\"reccatches1.db\"\n",
    "\n",
    "    sql_create_reccatches_table = \"\"\" CREATE TABLE IF NOT EXISTS reccatches (                                        \n",
    "                                        permitnr INT NOT NULL,\n",
    "                                        nrlobster INT NOT NULL,\n",
    "                                        fmonth text NOT NULL,\n",
    "                                        fyear INT NOT NULL,\n",
    "                                        area text NOT NULL\n",
    "                                    ); \"\"\"\n",
    "\n",
    "    \n",
    "\n",
    "    # create a database connection\n",
    "    conn = create_connection(database)\n",
    "\n",
    "    # create tables\n",
    "    if conn is not None:\n",
    "        # create projects table\n",
    "        create_table(conn, sql_create_reccatches_table)\n",
    "       \n",
    "    else:\n",
    "        print(\"Error! cannot create the database connection.\")\n",
    "\n",
    "\n",
    "if __name__ == '__main__':\n",
    "    main()"
   ]
  },
  {
   "cell_type": "code",
   "execution_count": 4,
   "metadata": {},
   "outputs": [
    {
     "name": "stdout",
     "output_type": "stream",
     "text": [
      "[('reccatches',)]\n"
     ]
    }
   ],
   "source": [
    "#Check which tables exist\n",
    "con = sqlite3.connect('reccatches1.db')\n",
    "\n",
    "def sql_fetch(con):\n",
    "\n",
    "    cursorObj = con.cursor()\n",
    "\n",
    "    cursorObj.execute('SELECT name from sqlite_master where type= \"table\"')\n",
    "\n",
    "    print(cursorObj.fetchall())\n",
    "\n",
    "sql_fetch(con)"
   ]
  },
  {
   "cell_type": "code",
   "execution_count": 5,
   "metadata": {},
   "outputs": [],
   "source": [
    "#Drop a table\n",
    "con = sqlite3.connect('reccatches1.db')\n",
    "\n",
    "def sql_fetch(con):\n",
    "\n",
    "    cursorObj = con.cursor()\n",
    "\n",
    "    cursorObj.execute('DROP table if exists reccatches')\n",
    "\n",
    "    con.commit()\n",
    "\n",
    "sql_fetch(con)"
   ]
  },
  {
   "cell_type": "code",
   "execution_count": 6,
   "metadata": {},
   "outputs": [],
   "source": [
    "#Insert data into table. Fill all areas with 0 nrlobster as a start\n",
    "con = sqlite3.connect('reccatches1.db')\n",
    "\n",
    "def sql_insert(con, entities):\n",
    "\n",
    "    cursorObj = con.cursor()\n",
    "    \n",
    "    cursorObj.execute('INSERT INTO reccatches(permitnr, nrlobster, fmonth, fyear, area) VALUES(?, ?, ?, ?, ?)', entities)\n",
    "    \n",
    "    con.commit()\n",
    "\n",
    "entities = (123456, 4, 'Jan', 2020, 'F')\n",
    "\n",
    "sql_insert(con, entities)"
   ]
  },
  {
   "cell_type": "code",
   "execution_count": 5,
   "metadata": {},
   "outputs": [
    {
     "name": "stdout",
     "output_type": "stream",
     "text": [
      "(123456, 4, 'Jan', 2020, 'F')\n",
      "(852963, 2, 'Feb', 2019, 'D')\n",
      "(789123, 5, 'Feb', 2020, 'B')\n",
      "(145963, 8, 'Feb', 2019, 'D')\n"
     ]
    }
   ],
   "source": [
    "#Fetch data from table\n",
    "con = sqlite3.connect('reccatches1.db')\n",
    "\n",
    "def sql_fetch(con):\n",
    "\n",
    "    cursorObj = con.cursor()\n",
    "\n",
    "    cursorObj.execute('SELECT * FROM reccatches')\n",
    "\n",
    "    rows = cursorObj.fetchall()\n",
    "\n",
    "    for row in rows:\n",
    "\n",
    "        print(row)\n",
    "\n",
    "sql_fetch(con)"
   ]
  },
  {
   "cell_type": "code",
   "execution_count": 8,
   "metadata": {},
   "outputs": [
    {
     "name": "stdout",
     "output_type": "stream",
     "text": [
      "('F', 4.0)\n"
     ]
    }
   ],
   "source": [
    "con = sqlite3.connect('reccatches1.db')\n",
    "\n",
    "def sql_fetch(con):\n",
    "\n",
    "    cursorObj = con.cursor()\n",
    "\n",
    "    cursorObj.execute('SELECT area, avg(nrlobster) FROM reccatches GROUP BY area')\n",
    "\n",
    "    rows = cursorObj.fetchall()\n",
    "\n",
    "    for row in rows:\n",
    "\n",
    "        print(row)\n",
    "\n",
    "sql_fetch(con)"
   ]
  },
  {
   "cell_type": "code",
   "execution_count": 10,
   "metadata": {},
   "outputs": [
    {
     "data": {
      "image/png": "[encoded data removed]",
      "text/plain": [
       "<Figure size 432x288 with 1 Axes>"
      ]
     },
     "metadata": {
      "needs_background": "light"
     },
     "output_type": "display_data"
    }
   ],
   "source": [
    "#Graph the data. Place this code in app.ipynb to run in a screen. Class EightthWindow. Format is in .kv file of BoxLayouts\n",
    "\n",
    "import matplotlib.pyplot as plt\n",
    "#from matplotlib import style\n",
    "#style.use('ggplot')\n",
    "#import numpy as np\n",
    "\n",
    "con = sqlite3.connect('reccatches1.db')\n",
    "c = con.cursor()\n",
    "\n",
    "def graph_data():\n",
    "    c.execute('SELECT area, avg(nrlobster) as avglobster FROM reccatches GROUP BY area')\n",
    "    data = c.fetchall()\n",
    "    \n",
    "    area = []\n",
    "    avglobster = []\n",
    "    \n",
    "    for row in data:\n",
    "        area.append(row[0])\n",
    "        avglobster.append(row[1])\n",
    "\n",
    "    fig = plt.figure()\n",
    "    ax = fig.add_axes([0,0,1,1])\n",
    "    ax.set_ylabel('Average number of lobster caught per fisher')\n",
    "    ax.set_xlabel('Area')\n",
    "    ax.bar(area,avglobster)\n",
    "    plt.show()\n",
    "    \n",
    "graph_data()"
   ]
  },
  {
   "cell_type": "code",
   "execution_count": 11,
   "metadata": {},
   "outputs": [
    {
     "data": {
      "image/png": "[encoded data removed]",
      "text/plain": [
       "<Figure size 432x288 with 1 Axes>"
      ]
     },
     "metadata": {
      "needs_background": "light"
     },
     "output_type": "display_data"
    }
   ],
   "source": [
    "con = sqlite3.connect('reccatches1.db')\n",
    "c = con.cursor()\n",
    "\n",
    "def graph_data():\n",
    "    c.execute('SELECT area, count(distinct permitnr) as nrfishers FROM reccatches GROUP BY area')\n",
    "    data = c.fetchall()\n",
    "    \n",
    "    area = []\n",
    "    avglobster = []\n",
    "    \n",
    "    for row in data:\n",
    "        area.append(row[0])\n",
    "        avglobster.append(row[1])\n",
    "\n",
    "    fig = plt.figure()\n",
    "    ax = fig.add_axes([0,0,1,1])\n",
    "    ax.set_ylabel('Number of active fishers')\n",
    "    ax.set_xlabel('Area')\n",
    "    ax.bar(area,avglobster)\n",
    "    plt.show()\n",
    "    \n",
    "graph_data()"
   ]
  },
  {
   "cell_type": "code",
   "execution_count": null,
   "metadata": {},
   "outputs": [],
   "source": []
  },
  {
   "cell_type": "code",
   "execution_count": null,
   "metadata": {},
   "outputs": [],
   "source": []
  }
 ],
 "metadata": {
  "kernelspec": {
   "display_name": "Python 3",
   "language": "python",
   "name": "python3"
  },
  "language_info": {
   "codemirror_mode": {
    "name": "ipython",
    "version": 3
   },
   "file_extension": ".py",
   "mimetype": "text/x-python",
   "name": "python",
   "nbconvert_exporter": "python",
   "pygments_lexer": "ipython3",
   "version": "3.7.1"
  }
 },
 "nbformat": 4,
 "nbformat_minor": 2
}
